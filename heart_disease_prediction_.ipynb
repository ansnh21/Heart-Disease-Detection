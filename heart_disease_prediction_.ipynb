{
 "cells": [
  {
   "cell_type": "markdown",
   "id": "0a72bfa4",
   "metadata": {},
   "source": [
    "# Heart Disease Prediction using Logistic Regression\n",
    "This notebook builds a simple predictive model using logistic regression to determine the likelihood of heart disease based on medical features."
   ]
  },
  {
   "cell_type": "code",
   "execution_count": null,
   "id": "9647be14",
   "metadata": {},
   "outputs": [],
   "source": [
    "import numpy as np\n",
    "import pandas as pd\n",
    "from sklearn.model_selection import train_test_split\n",
    "from sklearn.linear_model import LogisticRegression\n",
    "from sklearn.metrics import accuracy_score"
   ]
  },
  {
   "cell_type": "markdown",
   "id": "d0781ad9",
   "metadata": {},
   "source": [
    "## Load the Dataset"
   ]
  },
  {
   "cell_type": "code",
   "execution_count": null,
   "id": "1f65c44b",
   "metadata": {},
   "outputs": [],
   "source": [
    "# Path to the dataset (adjust if needed)\n",
    "data_path = '/content/data.csv'\n",
    "df = pd.read_csv(data_path)"
   ]
  },
  {
   "cell_type": "markdown",
   "id": "8484e9bf",
   "metadata": {},
   "source": [
    "## Dataset Overview"
   ]
  },
  {
   "cell_type": "code",
   "execution_count": null,
   "id": "5837adf2",
   "metadata": {},
   "outputs": [],
   "source": [
    "print(\"First 5 rows of the dataset:\")\n",
    "print(df.head())\n",
    "\n",
    "print(\"\\nDataset Summary:\")\n",
    "print(df.info())\n",
    "\n",
    "print(\"\\nMissing Values in Each Column:\")\n",
    "print(df.isnull().sum())\n",
    "\n",
    "print(\"\\nTarget Class Distribution:\")\n",
    "print(df['target'].value_counts())"
   ]
  },
  {
   "cell_type": "markdown",
   "id": "63b7c6bd",
   "metadata": {},
   "source": [
    "## Feature-Target Separation"
   ]
  },
  {
   "cell_type": "code",
   "execution_count": null,
   "id": "7a041cbe",
   "metadata": {},
   "outputs": [],
   "source": [
    "features = df.drop('target', axis=1)\n",
    "labels = df['target']"
   ]
  },
  {
   "cell_type": "markdown",
   "id": "56c052db",
   "metadata": {},
   "source": [
    "## Train-Test Split"
   ]
  },
  {
   "cell_type": "code",
   "execution_count": null,
   "id": "9b8fc1d5",
   "metadata": {},
   "outputs": [],
   "source": [
    "X_train, X_test, y_train, y_test = train_test_split(\n",
    "    features, labels, test_size=0.2, stratify=labels, random_state=42\n",
    ")\n",
    "\n",
    "print(f\"Feature Set Shape: {features.shape}\")\n",
    "print(f\"Training Set Shape: {X_train.shape}\")\n",
    "print(f\"Testing Set Shape: {X_test.shape}\")"
   ]
  },
  {
   "cell_type": "markdown",
   "id": "c816ddb3",
   "metadata": {},
   "source": [
    "## Model Training"
   ]
  },
  {
   "cell_type": "code",
   "execution_count": null,
   "id": "48b9f5ee",
   "metadata": {},
   "outputs": [],
   "source": [
    "classifier = LogisticRegression()\n",
    "classifier.fit(X_train, y_train)"
   ]
  },
  {
   "cell_type": "markdown",
   "id": "e4790618",
   "metadata": {},
   "source": [
    "## Model Evaluation"
   ]
  },
  {
   "cell_type": "code",
   "execution_count": null,
   "id": "92aa4392",
   "metadata": {},
   "outputs": [],
   "source": [
    "train_preds = classifier.predict(X_train)\n",
    "test_preds = classifier.predict(X_test)\n",
    "\n",
    "train_accuracy = accuracy_score(y_train, train_preds)\n",
    "test_accuracy = accuracy_score(y_test, test_preds)\n",
    "\n",
    "print(f\"Training Accuracy: {train_accuracy:.4f}\")\n",
    "print(f\"Testing Accuracy: {test_accuracy:.4f}\")"
   ]
  },
  {
   "cell_type": "markdown",
   "id": "15d2a1bc",
   "metadata": {},
   "source": [
    "## Make a Prediction on Sample Data"
   ]
  },
  {
   "cell_type": "code",
   "execution_count": null,
   "id": "6917065f",
   "metadata": {},
   "outputs": [],
   "source": [
    "sample_input = (62, 0, 0, 140, 268, 0, 0, 160, 0, 3.6, 0, 2, 2)\n",
    "sample_array = np.array(sample_input).reshape(1, -1)\n",
    "\n",
    "prediction = classifier.predict(sample_array)[0]\n",
    "\n",
    "if prediction == 1:\n",
    "    print(\"Result: The individual is likely to have heart disease.\")\n",
    "else:\n",
    "    print(\"Result: The individual is unlikely to have heart disease.\")"
   ]
  }
 ],
 "metadata": {},
 "nbformat": 4,
 "nbformat_minor": 5
}